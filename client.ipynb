{
 "cells": [
  {
   "cell_type": "code",
   "execution_count": 1,
   "metadata": {},
   "outputs": [],
   "source": [
    "import requests\n",
    "import json\n",
    "import json_struct as jv\n",
    "\n",
    "\n",
    "class Client():\n",
    "    def __init__(self, target_url) -> None:\n",
    "        self.url = target_url\n",
    "\n",
    "    def get_json(self):\n",
    "        '''\n",
    "        得到完整Json数据\n",
    "        '''\n",
    "        self.res = requests.get(self.url).text\n",
    "        vis = jv.visualizer(self.res)\n",
    "        vis.visualize(with_sample=True)\n",
    "        print(\"Success! Got the Json-Object.\")\n",
    "\n",
    "    def show_json(self):\n",
    "        '''\n",
    "        展示完整json数据\n",
    "        '''\n",
    "\n",
    "        print(self.res)\n",
    "\n",
    "    def find_by_name(self, name):\n",
    "        '''\n",
    "        通过学生名查找\n",
    "        '''\n",
    "        self.name_res = requests.get(self.url + f'?name={name}').text\n",
    "        print(self.name_res)\n",
    "\n",
    "    def find_by_gender(self, gender):\n",
    "        '''\n",
    "        通过学生性别查找\n",
    "        '''\n",
    "        self.gender_res = requests.get(self.url + f'?gender={gender}').text\n",
    "        print(self.gender_res)\n",
    "\n",
    "    def find_by_key(self, key):\n",
    "        '''\n",
    "        通过学生属性关键字查找\n",
    "        '''\n",
    "        self.key_res = requests.get(self.url + f'?q={key}').text\n",
    "        print(self.key_res)\n",
    "\n",
    "    def order_by_course(self):\n",
    "        '''\n",
    "        按课程显示信息\n",
    "        '''\n",
    "\n",
    "\n"
   ]
  },
  {
   "cell_type": "code",
   "execution_count": 5,
   "metadata": {},
   "outputs": [
    {
     "name": "stdout",
     "output_type": "stream",
     "text": [
      "Json 结构展示\n",
      "\n",
      "json\n",
      " |- hoge \t:\tdict\n",
      "  |-id\t:\tint\n",
      "    sample: 1\n",
      "  |-name\t:\tstr\n",
      "    sample: 李雪梅\n",
      "  |-gender\t:\tstr\n",
      "    sample: 女\n",
      "  |-age\t:\tint\n",
      "    sample: 18\n",
      "  |-course\t:\tlist\n",
      "    |- hoge \t:\tdict\n",
      "     |-id\t:\tint\n",
      "       sample: 1\n",
      "     |-title\t:\tstr\n",
      "       sample: 数据传输实验\n",
      "     |-type\t:\tstr\n",
      "       sample: 实验课\n",
      "     |-score\t:\tfloat\n",
      "       sample: 85.6\n",
      "\n",
      "\n",
      "Success! Got the Json-Object.\n",
      "<class 'list'> [{'id': 1, 'name': '李雪梅', 'gender': '女', 'age': 18, 'course': [{'id': 1, 'title': '数据传输实验', 'type': '实验课', 'score': 85.6}, {'id': 2, 'title': '数字图像处理', 'type': '专业选修', 'score': 76.6}, {'id': 3, 'title': 'C++程序设计', 'type': '专业选修', 'score': 90.9}, {'id': 4, 'title': '计算机网络与通信', 'type': '专业必修', 'score': 85}, {'id': 5, 'title': '通信原理', 'type': '专业必修', 'score': 81.1}]}, {'id': 2, 'name': '王明', 'gender': '男', 'age': 19, 'course': [{'id': 1, 'title': '计算机网络与通信', 'type': '专业必修', 'score': 95}, {'id': 2, 'title': '通信原理', 'type': '专业必修', 'score': 71.1}]}, {'id': 3, 'name': '刘洋', 'gender': '男', 'age': 18, 'course': [{'id': 1, 'title': 'C++程序设计', 'type': '专业选修', 'score': 95.9}]}, {'id': 4, 'name': '韩寒', 'gender': '男', 'age': 25, 'course': [{'id': 1, 'title': '计算机网络与通信', 'type': '专业必修', 'score': 85}, {'id': 2, 'title': '数据库应用系统开发', 'type': '专业必修', 'score': 81.1}]}, {'id': 5, 'name': '张雪涵', 'gender': '女', 'age': 19, 'course': [{'id': 1, 'title': '数据传输实验', 'type': '实验课', 'score': 75.5}, {'id': 2, 'title': '数字图像处理', 'type': '专业选修', 'score': 76.6}]}]\n"
     ]
    }
   ],
   "source": [
    "if __name__ == \"__main__\":\n",
    "    json_path = './1/json_transport/db.json'\n",
    "\n",
    "    url = \"http://localhost:3000/students\"\n",
    "    client = Client(url)\n",
    "    print('Json 结构展示\\n')\n",
    "    client.get_json()\n",
    "    a=json.loads(client.res)\n",
    "    print(type(a),a)"
   ]
  },
  {
   "cell_type": "code",
   "execution_count": null,
   "metadata": {},
   "outputs": [],
   "source": []
  },
  {
   "cell_type": "code",
   "execution_count": 19,
   "metadata": {},
   "outputs": [
    {
     "name": "stdout",
     "output_type": "stream",
     "text": [
      "5\n",
      "{'通信原理', 'C++程序设计', '数据库应用系统开发', '数字图像处理', '计算机网络与通信', '数据传输实验'}\n",
      "通信原理\n",
      "{'title': '通信原理', 'student': [{'student_name': '李雪梅', 'grades': 81.1}, {'student_name': '王明', 'grades': 71.1}]}\n",
      "C++程序设计\n",
      "{'title': 'C++程序设计', 'student': [{'student_name': '李雪梅', 'grades': 90.9}, {'student_name': '刘洋', 'grades': 95.9}]}\n",
      "数据库应用系统开发\n",
      "{'title': '数据库应用系统开发', 'student': [{'student_name': '韩寒', 'grades': 81.1}]}\n",
      "数字图像处理\n",
      "{'title': '数字图像处理', 'student': [{'student_name': '李雪梅', 'grades': 76.6}, {'student_name': '张雪涵', 'grades': 76.6}]}\n",
      "计算机网络与通信\n",
      "{'title': '计算机网络与通信', 'student': [{'student_name': '李雪梅', 'grades': 85}, {'student_name': '王明', 'grades': 95}, {'student_name': '韩寒', 'grades': 85}]}\n",
      "数据传输实验\n",
      "{'title': '数据传输实验', 'student': [{'student_name': '李雪梅', 'grades': 85.6}, {'student_name': '张雪涵', 'grades': 75.5}]}\n"
     ]
    }
   ],
   "source": [
    "print(len(a))\n",
    "all_course=set()\n",
    "for student in a:\n",
    "    courses=student['course']\n",
    "    for course in courses:\n",
    "        all_course.add(course['title'])\n",
    "print(all_course)\n",
    "by_course=list()\n",
    "\n",
    "for course in all_course:\n",
    "    course_info = {}\n",
    "    # print(course)\n",
    "    course_info['title']=course\n",
    "    student_info=[]\n",
    "    for student in a:\n",
    "        courses = student['course']\n",
    "        for stu_course in courses:\n",
    "            if stu_course['title']==course:\n",
    "\n",
    "                student_info.append({'student_name':student['name'],'grades':stu_course['score']})\n",
    "    course_info['student']=student_info\n",
    "    print(course_info)\n",
    "    by_course.append(course_info.copy())\n"
   ]
  },
  {
   "cell_type": "code",
   "execution_count": 20,
   "metadata": {},
   "outputs": [
    {
     "name": "stdout",
     "output_type": "stream",
     "text": [
      "[{'title': '通信原理', 'student': [{'student_name': '李雪梅', 'grades': 81.1}, {'student_name': '王明', 'grades': 71.1}]}, {'title': 'C++程序设计', 'student': [{'student_name': '李雪梅', 'grades': 90.9}, {'student_name': '刘洋', 'grades': 95.9}]}, {'title': '数据库应用系统开发', 'student': [{'student_name': '韩寒', 'grades': 81.1}]}, {'title': '数字图像处理', 'student': [{'student_name': '李雪梅', 'grades': 76.6}, {'student_name': '张雪涵', 'grades': 76.6}]}, {'title': '计算机网络与通信', 'student': [{'student_name': '李雪梅', 'grades': 85}, {'student_name': '王明', 'grades': 95}, {'student_name': '韩寒', 'grades': 85}]}, {'title': '数据传输实验', 'student': [{'student_name': '李雪梅', 'grades': 85.6}, {'student_name': '张雪涵', 'grades': 75.5}]}]\n"
     ]
    }
   ],
   "source": [
    "print(by_course)"
   ]
  },
  {
   "cell_type": "code",
   "execution_count": null,
   "metadata": {},
   "outputs": [],
   "source": [
    "def student_filter(course,condition,value):\n",
    "    temp=[]\n",
    "    if condition=='g':\n",
    "\n",
    "        for student in course['student']:\n",
    "            if student['grades']>=value:\n",
    "                temp.append(student)\n",
    "        course['student']=temp\n",
    "    if condition == 'l':\n",
    "\n",
    "        for student in course['student']:\n",
    "            if student['grades'] <= value:\n",
    "                temp.append(student)\n",
    "        course['student'] = temp\n",
    "    if condition == 'e':\n",
    "        for student in course['student']:\n",
    "            if student['grades'] >= value[0] and student['grades'] <= value[1]:\n",
    "                temp.append(student)\n",
    "        course['student'] = temp\n",
    "\n",
    "\n",
    "\n",
    "\n",
    "\n",
    "while 1:\n",
    "    u_title=input('请输入课程')\n",
    "    if u_title not in all_course:\n",
    "        print('输入课程不存在，请重新输入。')\n",
    "        continue\n",
    "    u_score=input(r'请输入成绩要求,例如 >90 <60 70-80 这三种格式' )\n",
    "    if('<' in u_score):\n",
    "        u_condition=u_score[1:].strip()\n",
    "        try:\n",
    "            u_condition=int(u_condition)\n",
    "        except:\n",
    "            print('ERROR')\n",
    "            continue\n",
    "    elif('>' in u_score):\n",
    "        u_condition = u_score[1:].strip()\n",
    "        try:\n",
    "            u_condition = int(u_condition)\n",
    "        except:\n",
    "            print('ERROR')\n",
    "            continue\n",
    "    elif('-' in u_score):\n",
    "        u_condition=u_score.strip().split('-')\n",
    "        if (len(u_condition)!=2):\n",
    "            print('ERROR')\n",
    "            continue\n",
    "        try:\n",
    "            a,b=int(u_condition[0]),int(u_condition[1])\n",
    "        except:\n",
    "            print('ERROR')\n",
    "            continue\n",
    "\n"
   ]
  }
 ],
 "metadata": {
  "kernelspec": {
   "display_name": "Python 3.8.10 64-bit",
   "language": "python",
   "name": "python3"
  },
  "language_info": {
   "codemirror_mode": {
    "name": "ipython",
    "version": 3
   },
   "file_extension": ".py",
   "mimetype": "text/x-python",
   "name": "python",
   "nbconvert_exporter": "python",
   "pygments_lexer": "ipython3",
   "version": "3.8.10"
  },
  "orig_nbformat": 4,
  "vscode": {
   "interpreter": {
    "hash": "a075680c659b0a9fcdb6dcac0d52cf6c8d2fa2f3ad9da297908ef19a73a03bd0"
   }
  }
 },
 "nbformat": 4,
 "nbformat_minor": 2
}
